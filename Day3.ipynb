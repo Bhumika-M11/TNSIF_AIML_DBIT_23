{
 "cells": [
  {
   "cell_type": "code",
   "execution_count": 1,
   "id": "3735a7d0-d7bc-4c8e-bdc4-ef341f548588",
   "metadata": {},
   "outputs": [
    {
     "name": "stdout",
     "output_type": "stream",
     "text": [
      "Enter 10 numbers:\n",
      "Enter number: 1\n",
      "Enter number: 3\n",
      "Enter number: 2\n",
      "Enter number: 4\n",
      "Enter number: 5\n",
      "Enter number: 66\n",
      "Enter number: 7\n",
      "Enter number: 11\n",
      "Enter number: 32\n",
      "Enter number: 23\n",
      "The list after removing third element and all odd numbers: [4, 66, 32]\n"
     ]
    }
   ],
   "source": [
    "#Day-3(1-8-25)\n",
    "#Accept a list with numbers having 10 elements. Remove the third element and all odd elements.\n",
    "\n",
    "elements = []\n",
    "print(\"Enter 10 numbers:\")\n",
    "for i in range(10):\n",
    "    num = int(input(\"Enter number: \"))\n",
    "    elements.append(num)\n",
    "if len(elements) >= 3:\n",
    "    elements.pop(2)\n",
    "\n",
    "new_list= []\n",
    "for num in elements:\n",
    "    if num % 2 == 0:\n",
    "        new_list.append(num)\n",
    "print(\"The list after removing third element and all odd numbers:\", new_list)"
   ]
  }
 ],
 "metadata": {
  "kernelspec": {
   "display_name": "Python 3 (ipykernel)",
   "language": "python",
   "name": "python3"
  },
  "language_info": {
   "codemirror_mode": {
    "name": "ipython",
    "version": 3
   },
   "file_extension": ".py",
   "mimetype": "text/x-python",
   "name": "python",
   "nbconvert_exporter": "python",
   "pygments_lexer": "ipython3",
   "version": "3.9.13"
  }
 },
 "nbformat": 4,
 "nbformat_minor": 5
}
