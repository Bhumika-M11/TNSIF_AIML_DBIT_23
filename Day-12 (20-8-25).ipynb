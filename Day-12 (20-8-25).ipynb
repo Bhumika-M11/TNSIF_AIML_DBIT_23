{
 "cells": [
  {
   "cell_type": "code",
   "execution_count": 1,
   "id": "044919ee-de28-48dc-89e8-4756926e84da",
   "metadata": {},
   "outputs": [
    {
     "data": {
      "text/html": [
       "<div>\n",
       "<style scoped>\n",
       "    .dataframe tbody tr th:only-of-type {\n",
       "        vertical-align: middle;\n",
       "    }\n",
       "\n",
       "    .dataframe tbody tr th {\n",
       "        vertical-align: top;\n",
       "    }\n",
       "\n",
       "    .dataframe thead th {\n",
       "        text-align: right;\n",
       "    }\n",
       "</style>\n",
       "<table border=\"1\" class=\"dataframe\">\n",
       "  <thead>\n",
       "    <tr style=\"text-align: right;\">\n",
       "      <th></th>\n",
       "      <th>date</th>\n",
       "      <th>open</th>\n",
       "      <th>high</th>\n",
       "      <th>low</th>\n",
       "      <th>close</th>\n",
       "      <th>adj_close</th>\n",
       "      <th>volume</th>\n",
       "    </tr>\n",
       "  </thead>\n",
       "  <tbody>\n",
       "    <tr>\n",
       "      <th>0</th>\n",
       "      <td>2004-11-18</td>\n",
       "      <td>44.380001</td>\n",
       "      <td>44.380001</td>\n",
       "      <td>44.490002</td>\n",
       "      <td>44.070000</td>\n",
       "      <td>44.430000</td>\n",
       "      <td>5992000</td>\n",
       "    </tr>\n",
       "    <tr>\n",
       "      <th>1</th>\n",
       "      <td>2004-11-19</td>\n",
       "      <td>44.779999</td>\n",
       "      <td>44.779999</td>\n",
       "      <td>44.919998</td>\n",
       "      <td>44.470001</td>\n",
       "      <td>44.490002</td>\n",
       "      <td>11655300</td>\n",
       "    </tr>\n",
       "    <tr>\n",
       "      <th>2</th>\n",
       "      <td>2004-11-22</td>\n",
       "      <td>44.950001</td>\n",
       "      <td>44.950001</td>\n",
       "      <td>44.970001</td>\n",
       "      <td>44.740002</td>\n",
       "      <td>44.750000</td>\n",
       "      <td>11996000</td>\n",
       "    </tr>\n",
       "    <tr>\n",
       "      <th>3</th>\n",
       "      <td>2004-11-23</td>\n",
       "      <td>44.750000</td>\n",
       "      <td>44.750000</td>\n",
       "      <td>44.919998</td>\n",
       "      <td>44.720001</td>\n",
       "      <td>44.880001</td>\n",
       "      <td>3169200</td>\n",
       "    </tr>\n",
       "    <tr>\n",
       "      <th>4</th>\n",
       "      <td>2004-11-24</td>\n",
       "      <td>45.049999</td>\n",
       "      <td>45.049999</td>\n",
       "      <td>45.049999</td>\n",
       "      <td>44.790001</td>\n",
       "      <td>44.930000</td>\n",
       "      <td>6105100</td>\n",
       "    </tr>\n",
       "  </tbody>\n",
       "</table>\n",
       "</div>"
      ],
      "text/plain": [
       "         date       open       high        low      close  adj_close    volume\n",
       "0  2004-11-18  44.380001  44.380001  44.490002  44.070000  44.430000   5992000\n",
       "1  2004-11-19  44.779999  44.779999  44.919998  44.470001  44.490002  11655300\n",
       "2  2004-11-22  44.950001  44.950001  44.970001  44.740002  44.750000  11996000\n",
       "3  2004-11-23  44.750000  44.750000  44.919998  44.720001  44.880001   3169200\n",
       "4  2004-11-24  45.049999  45.049999  45.049999  44.790001  44.930000   6105100"
      ]
     },
     "execution_count": 1,
     "metadata": {},
     "output_type": "execute_result"
    }
   ],
   "source": [
    "#1. Load the dataset and display its shape, column names, and first 5 rows.\n",
    "import pandas as pd \n",
    "import numpy as np\n",
    "import matplotlib.pyplot as plt\n",
    "\n",
    "df = pd.read_csv(\"D:\\MUFG\\gold_price_data.csv\")\n",
    "df.head()"
   ]
  },
  {
   "cell_type": "code",
   "execution_count": 2,
   "id": "1db43c39-3424-4ba1-a3e8-527f7aa8cd81",
   "metadata": {},
   "outputs": [
    {
     "data": {
      "text/plain": [
       "(5215, 7)"
      ]
     },
     "execution_count": 2,
     "metadata": {},
     "output_type": "execute_result"
    }
   ],
   "source": [
    "df.shape"
   ]
  },
  {
   "cell_type": "code",
   "execution_count": 3,
   "id": "29e9870e-2b44-4090-aa84-61e6518deefe",
   "metadata": {},
   "outputs": [
    {
     "data": {
      "text/plain": [
       "Index(['date', 'open', 'high', 'low', 'close', 'adj_close', 'volume'], dtype='object')"
      ]
     },
     "execution_count": 3,
     "metadata": {},
     "output_type": "execute_result"
    }
   ],
   "source": [
    "df.columns"
   ]
  },
  {
   "cell_type": "code",
   "execution_count": 4,
   "id": "588853c5-a02c-4e51-923a-a71a968fd241",
   "metadata": {},
   "outputs": [
    {
     "data": {
      "text/html": [
       "<div>\n",
       "<style scoped>\n",
       "    .dataframe tbody tr th:only-of-type {\n",
       "        vertical-align: middle;\n",
       "    }\n",
       "\n",
       "    .dataframe tbody tr th {\n",
       "        vertical-align: top;\n",
       "    }\n",
       "\n",
       "    .dataframe thead th {\n",
       "        text-align: right;\n",
       "    }\n",
       "</style>\n",
       "<table border=\"1\" class=\"dataframe\">\n",
       "  <thead>\n",
       "    <tr style=\"text-align: right;\">\n",
       "      <th></th>\n",
       "      <th>date</th>\n",
       "      <th>open</th>\n",
       "      <th>high</th>\n",
       "      <th>low</th>\n",
       "      <th>close</th>\n",
       "      <th>adj_close</th>\n",
       "      <th>volume</th>\n",
       "    </tr>\n",
       "  </thead>\n",
       "  <tbody>\n",
       "    <tr>\n",
       "      <th>0</th>\n",
       "      <td>2004-11-18</td>\n",
       "      <td>44.380001</td>\n",
       "      <td>44.380001</td>\n",
       "      <td>44.490002</td>\n",
       "      <td>44.070000</td>\n",
       "      <td>44.430000</td>\n",
       "      <td>5992000</td>\n",
       "    </tr>\n",
       "    <tr>\n",
       "      <th>1</th>\n",
       "      <td>2004-11-19</td>\n",
       "      <td>44.779999</td>\n",
       "      <td>44.779999</td>\n",
       "      <td>44.919998</td>\n",
       "      <td>44.470001</td>\n",
       "      <td>44.490002</td>\n",
       "      <td>11655300</td>\n",
       "    </tr>\n",
       "    <tr>\n",
       "      <th>2</th>\n",
       "      <td>2004-11-22</td>\n",
       "      <td>44.950001</td>\n",
       "      <td>44.950001</td>\n",
       "      <td>44.970001</td>\n",
       "      <td>44.740002</td>\n",
       "      <td>44.750000</td>\n",
       "      <td>11996000</td>\n",
       "    </tr>\n",
       "    <tr>\n",
       "      <th>3</th>\n",
       "      <td>2004-11-23</td>\n",
       "      <td>44.750000</td>\n",
       "      <td>44.750000</td>\n",
       "      <td>44.919998</td>\n",
       "      <td>44.720001</td>\n",
       "      <td>44.880001</td>\n",
       "      <td>3169200</td>\n",
       "    </tr>\n",
       "    <tr>\n",
       "      <th>4</th>\n",
       "      <td>2004-11-24</td>\n",
       "      <td>45.049999</td>\n",
       "      <td>45.049999</td>\n",
       "      <td>45.049999</td>\n",
       "      <td>44.790001</td>\n",
       "      <td>44.930000</td>\n",
       "      <td>6105100</td>\n",
       "    </tr>\n",
       "  </tbody>\n",
       "</table>\n",
       "</div>"
      ],
      "text/plain": [
       "         date       open       high        low      close  adj_close    volume\n",
       "0  2004-11-18  44.380001  44.380001  44.490002  44.070000  44.430000   5992000\n",
       "1  2004-11-19  44.779999  44.779999  44.919998  44.470001  44.490002  11655300\n",
       "2  2004-11-22  44.950001  44.950001  44.970001  44.740002  44.750000  11996000\n",
       "3  2004-11-23  44.750000  44.750000  44.919998  44.720001  44.880001   3169200\n",
       "4  2004-11-24  45.049999  45.049999  45.049999  44.790001  44.930000   6105100"
      ]
     },
     "execution_count": 4,
     "metadata": {},
     "output_type": "execute_result"
    }
   ],
   "source": [
    "df.head(5)"
   ]
  },
  {
   "cell_type": "code",
   "execution_count": 5,
   "id": "fecfafa7-b8d1-4b60-b895-7a41ccb854c1",
   "metadata": {},
   "outputs": [
    {
     "data": {
      "text/html": [
       "<div>\n",
       "<style scoped>\n",
       "    .dataframe tbody tr th:only-of-type {\n",
       "        vertical-align: middle;\n",
       "    }\n",
       "\n",
       "    .dataframe tbody tr th {\n",
       "        vertical-align: top;\n",
       "    }\n",
       "\n",
       "    .dataframe thead th {\n",
       "        text-align: right;\n",
       "    }\n",
       "</style>\n",
       "<table border=\"1\" class=\"dataframe\">\n",
       "  <thead>\n",
       "    <tr style=\"text-align: right;\">\n",
       "      <th></th>\n",
       "      <th>date</th>\n",
       "      <th>open</th>\n",
       "      <th>high</th>\n",
       "      <th>low</th>\n",
       "      <th>close</th>\n",
       "      <th>adj_close</th>\n",
       "      <th>volume</th>\n",
       "    </tr>\n",
       "  </thead>\n",
       "  <tbody>\n",
       "    <tr>\n",
       "      <th>0</th>\n",
       "      <td>False</td>\n",
       "      <td>False</td>\n",
       "      <td>False</td>\n",
       "      <td>False</td>\n",
       "      <td>False</td>\n",
       "      <td>False</td>\n",
       "      <td>False</td>\n",
       "    </tr>\n",
       "    <tr>\n",
       "      <th>1</th>\n",
       "      <td>False</td>\n",
       "      <td>False</td>\n",
       "      <td>False</td>\n",
       "      <td>False</td>\n",
       "      <td>False</td>\n",
       "      <td>False</td>\n",
       "      <td>False</td>\n",
       "    </tr>\n",
       "    <tr>\n",
       "      <th>2</th>\n",
       "      <td>False</td>\n",
       "      <td>False</td>\n",
       "      <td>False</td>\n",
       "      <td>False</td>\n",
       "      <td>False</td>\n",
       "      <td>False</td>\n",
       "      <td>False</td>\n",
       "    </tr>\n",
       "    <tr>\n",
       "      <th>3</th>\n",
       "      <td>False</td>\n",
       "      <td>False</td>\n",
       "      <td>False</td>\n",
       "      <td>False</td>\n",
       "      <td>False</td>\n",
       "      <td>False</td>\n",
       "      <td>False</td>\n",
       "    </tr>\n",
       "    <tr>\n",
       "      <th>4</th>\n",
       "      <td>False</td>\n",
       "      <td>False</td>\n",
       "      <td>False</td>\n",
       "      <td>False</td>\n",
       "      <td>False</td>\n",
       "      <td>False</td>\n",
       "      <td>False</td>\n",
       "    </tr>\n",
       "    <tr>\n",
       "      <th>...</th>\n",
       "      <td>...</td>\n",
       "      <td>...</td>\n",
       "      <td>...</td>\n",
       "      <td>...</td>\n",
       "      <td>...</td>\n",
       "      <td>...</td>\n",
       "      <td>...</td>\n",
       "    </tr>\n",
       "    <tr>\n",
       "      <th>5210</th>\n",
       "      <td>False</td>\n",
       "      <td>False</td>\n",
       "      <td>False</td>\n",
       "      <td>False</td>\n",
       "      <td>False</td>\n",
       "      <td>False</td>\n",
       "      <td>False</td>\n",
       "    </tr>\n",
       "    <tr>\n",
       "      <th>5211</th>\n",
       "      <td>False</td>\n",
       "      <td>False</td>\n",
       "      <td>False</td>\n",
       "      <td>False</td>\n",
       "      <td>False</td>\n",
       "      <td>False</td>\n",
       "      <td>False</td>\n",
       "    </tr>\n",
       "    <tr>\n",
       "      <th>5212</th>\n",
       "      <td>False</td>\n",
       "      <td>False</td>\n",
       "      <td>False</td>\n",
       "      <td>False</td>\n",
       "      <td>False</td>\n",
       "      <td>False</td>\n",
       "      <td>False</td>\n",
       "    </tr>\n",
       "    <tr>\n",
       "      <th>5213</th>\n",
       "      <td>False</td>\n",
       "      <td>False</td>\n",
       "      <td>False</td>\n",
       "      <td>False</td>\n",
       "      <td>False</td>\n",
       "      <td>False</td>\n",
       "      <td>False</td>\n",
       "    </tr>\n",
       "    <tr>\n",
       "      <th>5214</th>\n",
       "      <td>False</td>\n",
       "      <td>False</td>\n",
       "      <td>False</td>\n",
       "      <td>False</td>\n",
       "      <td>False</td>\n",
       "      <td>False</td>\n",
       "      <td>False</td>\n",
       "    </tr>\n",
       "  </tbody>\n",
       "</table>\n",
       "<p>5215 rows × 7 columns</p>\n",
       "</div>"
      ],
      "text/plain": [
       "       date   open   high    low  close  adj_close  volume\n",
       "0     False  False  False  False  False      False   False\n",
       "1     False  False  False  False  False      False   False\n",
       "2     False  False  False  False  False      False   False\n",
       "3     False  False  False  False  False      False   False\n",
       "4     False  False  False  False  False      False   False\n",
       "...     ...    ...    ...    ...    ...        ...     ...\n",
       "5210  False  False  False  False  False      False   False\n",
       "5211  False  False  False  False  False      False   False\n",
       "5212  False  False  False  False  False      False   False\n",
       "5213  False  False  False  False  False      False   False\n",
       "5214  False  False  False  False  False      False   False\n",
       "\n",
       "[5215 rows x 7 columns]"
      ]
     },
     "execution_count": 5,
     "metadata": {},
     "output_type": "execute_result"
    }
   ],
   "source": [
    "#2. Check for missing values and duplicates. Clean the dataset if necessary.\n",
    "df.isnull()"
   ]
  },
  {
   "cell_type": "code",
   "execution_count": 6,
   "id": "6f5d0aab-a70d-4131-a5c2-e01a96c68db1",
   "metadata": {},
   "outputs": [
    {
     "data": {
      "text/plain": [
       "date         0\n",
       "open         0\n",
       "high         0\n",
       "low          0\n",
       "close        0\n",
       "adj_close    0\n",
       "volume       0\n",
       "dtype: int64"
      ]
     },
     "execution_count": 6,
     "metadata": {},
     "output_type": "execute_result"
    }
   ],
   "source": [
    "df.isnull().sum()"
   ]
  },
  {
   "cell_type": "code",
   "execution_count": 7,
   "id": "aed13ba8-6044-4759-8b86-2f7b1c3c10f5",
   "metadata": {},
   "outputs": [
    {
     "data": {
      "text/plain": [
       "0       False\n",
       "1       False\n",
       "2       False\n",
       "3       False\n",
       "4       False\n",
       "        ...  \n",
       "5210    False\n",
       "5211    False\n",
       "5212    False\n",
       "5213    False\n",
       "5214    False\n",
       "Length: 5215, dtype: bool"
      ]
     },
     "execution_count": 7,
     "metadata": {},
     "output_type": "execute_result"
    }
   ],
   "source": [
    "df.duplicated()"
   ]
  },
  {
   "cell_type": "code",
   "execution_count": 8,
   "id": "c9d5e8c8-63bd-498e-82d6-4f5d3c8b3425",
   "metadata": {},
   "outputs": [
    {
     "data": {
      "text/plain": [
       "0"
      ]
     },
     "execution_count": 8,
     "metadata": {},
     "output_type": "execute_result"
    }
   ],
   "source": [
    "df.duplicated().sum()"
   ]
  },
  {
   "cell_type": "code",
   "execution_count": 9,
   "id": "587d9601-8dd7-4791-b5e1-7a4cccabf9b0",
   "metadata": {},
   "outputs": [
    {
     "name": "stdout",
     "output_type": "stream",
     "text": [
      "<class 'pandas.core.frame.DataFrame'>\n",
      "RangeIndex: 5215 entries, 0 to 5214\n",
      "Data columns (total 7 columns):\n",
      " #   Column     Non-Null Count  Dtype  \n",
      "---  ------     --------------  -----  \n",
      " 0   date       5215 non-null   object \n",
      " 1   open       5215 non-null   float64\n",
      " 2   high       5215 non-null   float64\n",
      " 3   low        5215 non-null   float64\n",
      " 4   close      5215 non-null   float64\n",
      " 5   adj_close  5215 non-null   float64\n",
      " 6   volume     5215 non-null   int64  \n",
      "dtypes: float64(5), int64(1), object(1)\n",
      "memory usage: 285.3+ KB\n"
     ]
    }
   ],
   "source": [
    "#3. Perform exploratory data analysis (EDA): show descriptive statistics and visualize distributions of key features.\n",
    "df.info()"
   ]
  },
  {
   "cell_type": "code",
   "execution_count": 10,
   "id": "c316f65c-3a13-4311-8427-3465a0a4b338",
   "metadata": {},
   "outputs": [
    {
     "data": {
      "text/html": [
       "<div>\n",
       "<style scoped>\n",
       "    .dataframe tbody tr th:only-of-type {\n",
       "        vertical-align: middle;\n",
       "    }\n",
       "\n",
       "    .dataframe tbody tr th {\n",
       "        vertical-align: top;\n",
       "    }\n",
       "\n",
       "    .dataframe thead th {\n",
       "        text-align: right;\n",
       "    }\n",
       "</style>\n",
       "<table border=\"1\" class=\"dataframe\">\n",
       "  <thead>\n",
       "    <tr style=\"text-align: right;\">\n",
       "      <th></th>\n",
       "      <th>open</th>\n",
       "      <th>high</th>\n",
       "      <th>low</th>\n",
       "      <th>close</th>\n",
       "      <th>adj_close</th>\n",
       "      <th>volume</th>\n",
       "    </tr>\n",
       "  </thead>\n",
       "  <tbody>\n",
       "    <tr>\n",
       "      <th>count</th>\n",
       "      <td>5215.000000</td>\n",
       "      <td>5215.000000</td>\n",
       "      <td>5215.000000</td>\n",
       "      <td>5215.000000</td>\n",
       "      <td>5215.000000</td>\n",
       "      <td>5.215000e+03</td>\n",
       "    </tr>\n",
       "    <tr>\n",
       "      <th>mean</th>\n",
       "      <td>131.940968</td>\n",
       "      <td>131.940968</td>\n",
       "      <td>132.570993</td>\n",
       "      <td>131.256556</td>\n",
       "      <td>131.939183</td>\n",
       "      <td>9.423568e+06</td>\n",
       "    </tr>\n",
       "    <tr>\n",
       "      <th>std</th>\n",
       "      <td>51.291094</td>\n",
       "      <td>51.291094</td>\n",
       "      <td>51.459284</td>\n",
       "      <td>51.073175</td>\n",
       "      <td>51.282084</td>\n",
       "      <td>6.645282e+06</td>\n",
       "    </tr>\n",
       "    <tr>\n",
       "      <th>min</th>\n",
       "      <td>41.259998</td>\n",
       "      <td>41.259998</td>\n",
       "      <td>41.360001</td>\n",
       "      <td>41.020000</td>\n",
       "      <td>41.029999</td>\n",
       "      <td>3.193000e+05</td>\n",
       "    </tr>\n",
       "    <tr>\n",
       "      <th>25%</th>\n",
       "      <td>104.730000</td>\n",
       "      <td>104.730000</td>\n",
       "      <td>105.355000</td>\n",
       "      <td>104.160000</td>\n",
       "      <td>104.754997</td>\n",
       "      <td>5.305150e+06</td>\n",
       "    </tr>\n",
       "    <tr>\n",
       "      <th>50%</th>\n",
       "      <td>124.400002</td>\n",
       "      <td>124.400002</td>\n",
       "      <td>124.870003</td>\n",
       "      <td>123.980003</td>\n",
       "      <td>124.459999</td>\n",
       "      <td>7.818800e+06</td>\n",
       "    </tr>\n",
       "    <tr>\n",
       "      <th>75%</th>\n",
       "      <td>164.779999</td>\n",
       "      <td>164.779999</td>\n",
       "      <td>165.489998</td>\n",
       "      <td>164.004997</td>\n",
       "      <td>164.544998</td>\n",
       "      <td>1.154915e+07</td>\n",
       "    </tr>\n",
       "    <tr>\n",
       "      <th>max</th>\n",
       "      <td>316.290009</td>\n",
       "      <td>316.290009</td>\n",
       "      <td>317.630005</td>\n",
       "      <td>315.040009</td>\n",
       "      <td>317.489990</td>\n",
       "      <td>9.380420e+07</td>\n",
       "    </tr>\n",
       "  </tbody>\n",
       "</table>\n",
       "</div>"
      ],
      "text/plain": [
       "              open         high          low        close    adj_close  \\\n",
       "count  5215.000000  5215.000000  5215.000000  5215.000000  5215.000000   \n",
       "mean    131.940968   131.940968   132.570993   131.256556   131.939183   \n",
       "std      51.291094    51.291094    51.459284    51.073175    51.282084   \n",
       "min      41.259998    41.259998    41.360001    41.020000    41.029999   \n",
       "25%     104.730000   104.730000   105.355000   104.160000   104.754997   \n",
       "50%     124.400002   124.400002   124.870003   123.980003   124.459999   \n",
       "75%     164.779999   164.779999   165.489998   164.004997   164.544998   \n",
       "max     316.290009   316.290009   317.630005   315.040009   317.489990   \n",
       "\n",
       "             volume  \n",
       "count  5.215000e+03  \n",
       "mean   9.423568e+06  \n",
       "std    6.645282e+06  \n",
       "min    3.193000e+05  \n",
       "25%    5.305150e+06  \n",
       "50%    7.818800e+06  \n",
       "75%    1.154915e+07  \n",
       "max    9.380420e+07  "
      ]
     },
     "execution_count": 10,
     "metadata": {},
     "output_type": "execute_result"
    }
   ],
   "source": [
    "df.describe()"
   ]
  },
  {
   "cell_type": "code",
   "execution_count": 11,
   "id": "78ae3978-960b-4cec-8723-382a99bec53b",
   "metadata": {},
   "outputs": [
    {
     "data": {
      "text/plain": [
       "volume\n",
       "9258600     3\n",
       "6528700     3\n",
       "6757700     3\n",
       "5992000     2\n",
       "11521100    2\n",
       "           ..\n",
       "8327900     1\n",
       "10867900    1\n",
       "8256900     1\n",
       "8984500     1\n",
       "9697400     1\n",
       "Name: count, Length: 5127, dtype: int64"
      ]
     },
     "execution_count": 11,
     "metadata": {},
     "output_type": "execute_result"
    }
   ],
   "source": [
    "df['volume'].value_counts()"
   ]
  },
  {
   "cell_type": "code",
   "execution_count": 13,
   "id": "029eb69e-2ced-4f09-a160-b8857ecce1a0",
   "metadata": {},
   "outputs": [
    {
     "data": {
      "image/png": "[encoded data removed]",
      "text/plain": [
       "<Figure size 1000x800 with 6 Axes>"
      ]
     },
     "metadata": {},
     "output_type": "display_data"
    }
   ],
   "source": [
    "df.hist(bins=30, figsize=(10,8))\n",
    "plt.suptitle(\"Feature Distributions\")\n",
    "plt.show()"
   ]
  },
  {
   "cell_type": "code",
   "execution_count": 18,
   "id": "088d0afb-a6bc-431f-b6ac-fc58b094c1d6",
   "metadata": {},
   "outputs": [],
   "source": [
    "df= df.dropna().drop_duplicates()"
   ]
  },
  {
   "cell_type": "code",
   "execution_count": 22,
   "id": "f7eb327b-8d38-44f8-a2b4-3c5b131c9f2f",
   "metadata": {},
   "outputs": [
    {
     "data": {
      "image/png": "[encoded data removed]",
      "text/plain": [
       "<Figure size 800x600 with 2 Axes>"
      ]
     },
     "metadata": {},
     "output_type": "display_data"
    }
   ],
   "source": [
    "#4. Create a correlation heatmap to identify which features are highly correlated with the target variable (close)\n",
    "import seaborn as sns\n",
    "num_df = df.select_dtypes(include=['number'])\n",
    "corr = num_df.corr()\n",
    "plt.figure(figsize=(8,6))\n",
    "sns.heatmap(corr, annot=True, cmap=\"coolwarm\", fmt=\".2f\")\n",
    "plt.title(\"Correlation Heatmap\")\n",
    "plt.show()"
   ]
  },
  {
   "cell_type": "code",
   "execution_count": 40,
   "id": "56358b35-ecdd-4339-8969-b0f151c318df",
   "metadata": {},
   "outputs": [
    {
     "data": {
      "text/html": [
       "<div>\n",
       "<style scoped>\n",
       "    .dataframe tbody tr th:only-of-type {\n",
       "        vertical-align: middle;\n",
       "    }\n",
       "\n",
       "    .dataframe tbody tr th {\n",
       "        vertical-align: top;\n",
       "    }\n",
       "\n",
       "    .dataframe thead th {\n",
       "        text-align: right;\n",
       "    }\n",
       "</style>\n",
       "<table border=\"1\" class=\"dataframe\">\n",
       "  <thead>\n",
       "    <tr style=\"text-align: right;\">\n",
       "      <th></th>\n",
       "      <th>date</th>\n",
       "      <th>open</th>\n",
       "      <th>high</th>\n",
       "      <th>low</th>\n",
       "      <th>close</th>\n",
       "      <th>adj_close</th>\n",
       "      <th>volume</th>\n",
       "    </tr>\n",
       "  </thead>\n",
       "  <tbody>\n",
       "    <tr>\n",
       "      <th>0</th>\n",
       "      <td>2004-11-18</td>\n",
       "      <td>44.380001</td>\n",
       "      <td>44.380001</td>\n",
       "      <td>44.490002</td>\n",
       "      <td>44.070000</td>\n",
       "      <td>44.430000</td>\n",
       "      <td>5992000</td>\n",
       "    </tr>\n",
       "    <tr>\n",
       "      <th>1</th>\n",
       "      <td>2004-11-19</td>\n",
       "      <td>44.779999</td>\n",
       "      <td>44.779999</td>\n",
       "      <td>44.919998</td>\n",
       "      <td>44.470001</td>\n",
       "      <td>44.490002</td>\n",
       "      <td>11655300</td>\n",
       "    </tr>\n",
       "    <tr>\n",
       "      <th>2</th>\n",
       "      <td>2004-11-22</td>\n",
       "      <td>44.950001</td>\n",
       "      <td>44.950001</td>\n",
       "      <td>44.970001</td>\n",
       "      <td>44.740002</td>\n",
       "      <td>44.750000</td>\n",
       "      <td>11996000</td>\n",
       "    </tr>\n",
       "    <tr>\n",
       "      <th>3</th>\n",
       "      <td>2004-11-23</td>\n",
       "      <td>44.750000</td>\n",
       "      <td>44.750000</td>\n",
       "      <td>44.919998</td>\n",
       "      <td>44.720001</td>\n",
       "      <td>44.880001</td>\n",
       "      <td>3169200</td>\n",
       "    </tr>\n",
       "    <tr>\n",
       "      <th>4</th>\n",
       "      <td>2004-11-24</td>\n",
       "      <td>45.049999</td>\n",
       "      <td>45.049999</td>\n",
       "      <td>45.049999</td>\n",
       "      <td>44.790001</td>\n",
       "      <td>44.930000</td>\n",
       "      <td>6105100</td>\n",
       "    </tr>\n",
       "  </tbody>\n",
       "</table>\n",
       "</div>"
      ],
      "text/plain": [
       "         date       open       high        low      close  adj_close    volume\n",
       "0  2004-11-18  44.380001  44.380001  44.490002  44.070000  44.430000   5992000\n",
       "1  2004-11-19  44.779999  44.779999  44.919998  44.470001  44.490002  11655300\n",
       "2  2004-11-22  44.950001  44.950001  44.970001  44.740002  44.750000  11996000\n",
       "3  2004-11-23  44.750000  44.750000  44.919998  44.720001  44.880001   3169200\n",
       "4  2004-11-24  45.049999  45.049999  45.049999  44.790001  44.930000   6105100"
      ]
     },
     "execution_count": 40,
     "metadata": {},
     "output_type": "execute_result"
    }
   ],
   "source": [
    "df.head()"
   ]
  },
  {
   "cell_type": "code",
   "execution_count": 41,
   "id": "ea2d5a2e-1389-4de4-834d-c7a81d2d21be",
   "metadata": {},
   "outputs": [
    {
     "name": "stdout",
     "output_type": "stream",
     "text": [
      "            open        high         low    volume\n",
      "0      44.380001   44.380001   44.490002   5992000\n",
      "1      44.779999   44.779999   44.919998  11655300\n",
      "2      44.950001   44.950001   44.970001  11996000\n",
      "3      44.750000   44.750000   44.919998   3169200\n",
      "4      45.049999   45.049999   45.049999   6105100\n",
      "...          ...         ...         ...       ...\n",
      "5210  310.500000  310.500000  311.239990   7418200\n",
      "5211  313.119995  313.119995  313.140015  10891500\n",
      "5212  313.049988  313.049988  313.529999  19886800\n",
      "5213  308.549988  308.549988  309.660004  10326700\n",
      "5214  308.269989  308.269989  309.309998   9697400\n",
      "\n",
      "[5215 rows x 4 columns]\n"
     ]
    }
   ],
   "source": [
    "#5. Select independent variables (e.g., Open, High, Low, Volume) and target variable (Close/Price).\n",
    "X = df[['open', 'high', 'low', 'volume']]\n",
    "print(X)"
   ]
  },
  {
   "cell_type": "code",
   "execution_count": 42,
   "id": "0f2ae1a8-4587-4515-9d55-fde5e5613e54",
   "metadata": {},
   "outputs": [
    {
     "name": "stdout",
     "output_type": "stream",
     "text": [
      "0        44.070000\n",
      "1        44.470001\n",
      "2        44.740002\n",
      "3        44.720001\n",
      "4        44.790001\n",
      "           ...    \n",
      "5210    309.839996\n",
      "5211    310.700012\n",
      "5212    311.000000\n",
      "5213    307.630005\n",
      "5214    306.709991\n",
      "Name: close, Length: 5215, dtype: float64\n"
     ]
    }
   ],
   "source": [
    "y = df['close']\n",
    "print(y)"
   ]
  },
  {
   "cell_type": "code",
   "execution_count": 43,
   "id": "839adcae-205e-4f88-8ef8-7a2660c1b9f7",
   "metadata": {},
   "outputs": [],
   "source": [
    "#6. Split the dataset into training (80%) and testing (20%) sets.\n",
    "from sklearn.model_selection import train_test_split\n",
    "X_train,X_test,y_train,y_test=train_test_split(X,y,test_size=0.20,random_state=42)"
   ]
  },
  {
   "cell_type": "code",
   "execution_count": 44,
   "id": "82135179-58a6-4969-b83f-ab7cc32c6b06",
   "metadata": {},
   "outputs": [
    {
     "data": {
      "text/html": [
       "<div>\n",
       "<style scoped>\n",
       "    .dataframe tbody tr th:only-of-type {\n",
       "        vertical-align: middle;\n",
       "    }\n",
       "\n",
       "    .dataframe tbody tr th {\n",
       "        vertical-align: top;\n",
       "    }\n",
       "\n",
       "    .dataframe thead th {\n",
       "        text-align: right;\n",
       "    }\n",
       "</style>\n",
       "<table border=\"1\" class=\"dataframe\">\n",
       "  <thead>\n",
       "    <tr style=\"text-align: right;\">\n",
       "      <th></th>\n",
       "      <th>open</th>\n",
       "      <th>high</th>\n",
       "      <th>low</th>\n",
       "      <th>volume</th>\n",
       "    </tr>\n",
       "  </thead>\n",
       "  <tbody>\n",
       "    <tr>\n",
       "      <th>2173</th>\n",
       "      <td>120.949997</td>\n",
       "      <td>120.949997</td>\n",
       "      <td>122.349998</td>\n",
       "      <td>14697100</td>\n",
       "    </tr>\n",
       "    <tr>\n",
       "      <th>927</th>\n",
       "      <td>91.730003</td>\n",
       "      <td>91.730003</td>\n",
       "      <td>92.000000</td>\n",
       "      <td>8809600</td>\n",
       "    </tr>\n",
       "    <tr>\n",
       "      <th>2499</th>\n",
       "      <td>118.519997</td>\n",
       "      <td>118.519997</td>\n",
       "      <td>118.820000</td>\n",
       "      <td>6417500</td>\n",
       "    </tr>\n",
       "    <tr>\n",
       "      <th>45</th>\n",
       "      <td>42.240002</td>\n",
       "      <td>42.240002</td>\n",
       "      <td>42.560001</td>\n",
       "      <td>1332500</td>\n",
       "    </tr>\n",
       "    <tr>\n",
       "      <th>1741</th>\n",
       "      <td>161.839996</td>\n",
       "      <td>161.839996</td>\n",
       "      <td>162.029999</td>\n",
       "      <td>15390800</td>\n",
       "    </tr>\n",
       "    <tr>\n",
       "      <th>...</th>\n",
       "      <td>...</td>\n",
       "      <td>...</td>\n",
       "      <td>...</td>\n",
       "      <td>...</td>\n",
       "    </tr>\n",
       "    <tr>\n",
       "      <th>466</th>\n",
       "      <td>58.740002</td>\n",
       "      <td>58.740002</td>\n",
       "      <td>58.970001</td>\n",
       "      <td>2763400</td>\n",
       "    </tr>\n",
       "    <tr>\n",
       "      <th>3092</th>\n",
       "      <td>117.510002</td>\n",
       "      <td>117.510002</td>\n",
       "      <td>117.730003</td>\n",
       "      <td>10665800</td>\n",
       "    </tr>\n",
       "    <tr>\n",
       "      <th>3772</th>\n",
       "      <td>137.979996</td>\n",
       "      <td>137.979996</td>\n",
       "      <td>138.220001</td>\n",
       "      <td>8776000</td>\n",
       "    </tr>\n",
       "    <tr>\n",
       "      <th>5191</th>\n",
       "      <td>306.200012</td>\n",
       "      <td>306.200012</td>\n",
       "      <td>306.510010</td>\n",
       "      <td>7053700</td>\n",
       "    </tr>\n",
       "    <tr>\n",
       "      <th>860</th>\n",
       "      <td>90.269997</td>\n",
       "      <td>90.269997</td>\n",
       "      <td>91.349998</td>\n",
       "      <td>14043600</td>\n",
       "    </tr>\n",
       "  </tbody>\n",
       "</table>\n",
       "<p>4172 rows × 4 columns</p>\n",
       "</div>"
      ],
      "text/plain": [
       "            open        high         low    volume\n",
       "2173  120.949997  120.949997  122.349998  14697100\n",
       "927    91.730003   91.730003   92.000000   8809600\n",
       "2499  118.519997  118.519997  118.820000   6417500\n",
       "45     42.240002   42.240002   42.560001   1332500\n",
       "1741  161.839996  161.839996  162.029999  15390800\n",
       "...          ...         ...         ...       ...\n",
       "466    58.740002   58.740002   58.970001   2763400\n",
       "3092  117.510002  117.510002  117.730003  10665800\n",
       "3772  137.979996  137.979996  138.220001   8776000\n",
       "5191  306.200012  306.200012  306.510010   7053700\n",
       "860    90.269997   90.269997   91.349998  14043600\n",
       "\n",
       "[4172 rows x 4 columns]"
      ]
     },
     "execution_count": 44,
     "metadata": {},
     "output_type": "execute_result"
    }
   ],
   "source": [
    "X_train"
   ]
  },
  {
   "cell_type": "code",
   "execution_count": 48,
   "id": "f7a5377a-a2cd-4ddf-b25e-d73d387b3fc7",
   "metadata": {},
   "outputs": [
    {
     "data": {
      "text/plain": [
       "2173    120.589996\n",
       "927      90.940002\n",
       "2499    117.879997\n",
       "45       42.099998\n",
       "1741    158.300003\n",
       "           ...    \n",
       "466      58.250000\n",
       "3092    116.440002\n",
       "3772    137.639999\n",
       "5191    304.820007\n",
       "860      90.120003\n",
       "Name: close, Length: 4172, dtype: float64"
      ]
     },
     "execution_count": 48,
     "metadata": {},
     "output_type": "execute_result"
    }
   ],
   "source": [
    "y_train"
   ]
  },
  {
   "cell_type": "code",
   "execution_count": 49,
   "id": "d5882cec-0930-4499-9e7c-3a78837fa3e6",
   "metadata": {},
   "outputs": [
    {
     "data": {
      "text/html": [
       "<div>\n",
       "<style scoped>\n",
       "    .dataframe tbody tr th:only-of-type {\n",
       "        vertical-align: middle;\n",
       "    }\n",
       "\n",
       "    .dataframe tbody tr th {\n",
       "        vertical-align: top;\n",
       "    }\n",
       "\n",
       "    .dataframe thead th {\n",
       "        text-align: right;\n",
       "    }\n",
       "</style>\n",
       "<table border=\"1\" class=\"dataframe\">\n",
       "  <thead>\n",
       "    <tr style=\"text-align: right;\">\n",
       "      <th></th>\n",
       "      <th>open</th>\n",
       "      <th>high</th>\n",
       "      <th>low</th>\n",
       "      <th>adj_close</th>\n",
       "      <th>volume</th>\n",
       "    </tr>\n",
       "  </thead>\n",
       "  <tbody>\n",
       "    <tr>\n",
       "      <th>1897</th>\n",
       "      <td>157.500000</td>\n",
       "      <td>157.500000</td>\n",
       "      <td>158.309998</td>\n",
       "      <td>155.410004</td>\n",
       "      <td>27399400</td>\n",
       "    </tr>\n",
       "    <tr>\n",
       "      <th>877</th>\n",
       "      <td>87.000000</td>\n",
       "      <td>87.000000</td>\n",
       "      <td>87.599998</td>\n",
       "      <td>87.129997</td>\n",
       "      <td>9437900</td>\n",
       "    </tr>\n",
       "    <tr>\n",
       "      <th>4431</th>\n",
       "      <td>169.619995</td>\n",
       "      <td>169.619995</td>\n",
       "      <td>170.210007</td>\n",
       "      <td>170.070007</td>\n",
       "      <td>2982700</td>\n",
       "    </tr>\n",
       "    <tr>\n",
       "      <th>4724</th>\n",
       "      <td>178.130005</td>\n",
       "      <td>178.130005</td>\n",
       "      <td>178.729996</td>\n",
       "      <td>177.649994</td>\n",
       "      <td>4740700</td>\n",
       "    </tr>\n",
       "    <tr>\n",
       "      <th>1595</th>\n",
       "      <td>139.050003</td>\n",
       "      <td>139.050003</td>\n",
       "      <td>139.360001</td>\n",
       "      <td>138.880005</td>\n",
       "      <td>9553700</td>\n",
       "    </tr>\n",
       "    <tr>\n",
       "      <th>...</th>\n",
       "      <td>...</td>\n",
       "      <td>...</td>\n",
       "      <td>...</td>\n",
       "      <td>...</td>\n",
       "      <td>...</td>\n",
       "    </tr>\n",
       "    <tr>\n",
       "      <th>1867</th>\n",
       "      <td>159.429993</td>\n",
       "      <td>159.429993</td>\n",
       "      <td>160.639999</td>\n",
       "      <td>160.000000</td>\n",
       "      <td>9914400</td>\n",
       "    </tr>\n",
       "    <tr>\n",
       "      <th>2727</th>\n",
       "      <td>108.529999</td>\n",
       "      <td>108.529999</td>\n",
       "      <td>108.660004</td>\n",
       "      <td>108.489998</td>\n",
       "      <td>4104800</td>\n",
       "    </tr>\n",
       "    <tr>\n",
       "      <th>841</th>\n",
       "      <td>93.800003</td>\n",
       "      <td>93.800003</td>\n",
       "      <td>94.000000</td>\n",
       "      <td>93.110001</td>\n",
       "      <td>12389000</td>\n",
       "    </tr>\n",
       "    <tr>\n",
       "      <th>1893</th>\n",
       "      <td>152.679993</td>\n",
       "      <td>152.679993</td>\n",
       "      <td>152.850006</td>\n",
       "      <td>151.889999</td>\n",
       "      <td>6212900</td>\n",
       "    </tr>\n",
       "    <tr>\n",
       "      <th>175</th>\n",
       "      <td>43.130001</td>\n",
       "      <td>43.130001</td>\n",
       "      <td>43.169998</td>\n",
       "      <td>43.080002</td>\n",
       "      <td>1493900</td>\n",
       "    </tr>\n",
       "  </tbody>\n",
       "</table>\n",
       "<p>1043 rows × 5 columns</p>\n",
       "</div>"
      ],
      "text/plain": [
       "            open        high         low   adj_close    volume\n",
       "1897  157.500000  157.500000  158.309998  155.410004  27399400\n",
       "877    87.000000   87.000000   87.599998   87.129997   9437900\n",
       "4431  169.619995  169.619995  170.210007  170.070007   2982700\n",
       "4724  178.130005  178.130005  178.729996  177.649994   4740700\n",
       "1595  139.050003  139.050003  139.360001  138.880005   9553700\n",
       "...          ...         ...         ...         ...       ...\n",
       "1867  159.429993  159.429993  160.639999  160.000000   9914400\n",
       "2727  108.529999  108.529999  108.660004  108.489998   4104800\n",
       "841    93.800003   93.800003   94.000000   93.110001  12389000\n",
       "1893  152.679993  152.679993  152.850006  151.889999   6212900\n",
       "175    43.130001   43.130001   43.169998   43.080002   1493900\n",
       "\n",
       "[1043 rows x 5 columns]"
      ]
     },
     "execution_count": 49,
     "metadata": {},
     "output_type": "execute_result"
    }
   ],
   "source": [
    "X_test"
   ]
  },
  {
   "cell_type": "code",
   "execution_count": 50,
   "id": "0e6e392c-92fb-415e-ac77-a1ba6d0bc617",
   "metadata": {},
   "outputs": [
    {
     "data": {
      "text/plain": [
       "1897    154.869995\n",
       "877      86.230003\n",
       "4431    169.509995\n",
       "4724    177.509995\n",
       "1595    138.669998\n",
       "           ...    \n",
       "1867    159.020004\n",
       "2727    108.330002\n",
       "841      93.059998\n",
       "1893    151.630005\n",
       "175      42.990002\n",
       "Name: close, Length: 1043, dtype: float64"
      ]
     },
     "execution_count": 50,
     "metadata": {},
     "output_type": "execute_result"
    }
   ],
   "source": [
    "y_test"
   ]
  },
  {
   "cell_type": "code",
   "execution_count": 51,
   "id": "5bbddd96-3b38-4088-a120-3821b3029c04",
   "metadata": {},
   "outputs": [
    {
     "data": {
      "text/html": [
       "<style>#sk-container-id-1 {color: black;background-color: white;}#sk-container-id-1 pre{padding: 0;}#sk-container-id-1 div.sk-toggleable {background-color: white;}#sk-container-id-1 label.sk-toggleable__label {cursor: pointer;display: block;width: 100%;margin-bottom: 0;padding: 0.3em;box-sizing: border-box;text-align: center;}#sk-container-id-1 label.sk-toggleable__label-arrow:before {content: \"▸\";float: left;margin-right: 0.25em;color: #696969;}#sk-container-id-1 label.sk-toggleable__label-arrow:hover:before {color: black;}#sk-container-id-1 div.sk-estimator:hover label.sk-toggleable__label-arrow:before {color: black;}#sk-container-id-1 div.sk-toggleable__content {max-height: 0;max-width: 0;overflow: hidden;text-align: left;background-color: #f0f8ff;}#sk-container-id-1 div.sk-toggleable__content pre {margin: 0.2em;color: black;border-radius: 0.25em;background-color: #f0f8ff;}#sk-container-id-1 input.sk-toggleable__control:checked~div.sk-toggleable__content {max-height: 200px;max-width: 100%;overflow: auto;}#sk-container-id-1 input.sk-toggleable__control:checked~label.sk-toggleable__label-arrow:before {content: \"▾\";}#sk-container-id-1 div.sk-estimator input.sk-toggleable__control:checked~label.sk-toggleable__label {background-color: #d4ebff;}#sk-container-id-1 div.sk-label input.sk-toggleable__control:checked~label.sk-toggleable__label {background-color: #d4ebff;}#sk-container-id-1 input.sk-hidden--visually {border: 0;clip: rect(1px 1px 1px 1px);clip: rect(1px, 1px, 1px, 1px);height: 1px;margin: -1px;overflow: hidden;padding: 0;position: absolute;width: 1px;}#sk-container-id-1 div.sk-estimator {font-family: monospace;background-color: #f0f8ff;border: 1px dotted black;border-radius: 0.25em;box-sizing: border-box;margin-bottom: 0.5em;}#sk-container-id-1 div.sk-estimator:hover {background-color: #d4ebff;}#sk-container-id-1 div.sk-parallel-item::after {content: \"\";width: 100%;border-bottom: 1px solid gray;flex-grow: 1;}#sk-container-id-1 div.sk-label:hover label.sk-toggleable__label {background-color: #d4ebff;}#sk-container-id-1 div.sk-serial::before {content: \"\";position: absolute;border-left: 1px solid gray;box-sizing: border-box;top: 0;bottom: 0;left: 50%;z-index: 0;}#sk-container-id-1 div.sk-serial {display: flex;flex-direction: column;align-items: center;background-color: white;padding-right: 0.2em;padding-left: 0.2em;position: relative;}#sk-container-id-1 div.sk-item {position: relative;z-index: 1;}#sk-container-id-1 div.sk-parallel {display: flex;align-items: stretch;justify-content: center;background-color: white;position: relative;}#sk-container-id-1 div.sk-item::before, #sk-container-id-1 div.sk-parallel-item::before {content: \"\";position: absolute;border-left: 1px solid gray;box-sizing: border-box;top: 0;bottom: 0;left: 50%;z-index: -1;}#sk-container-id-1 div.sk-parallel-item {display: flex;flex-direction: column;z-index: 1;position: relative;background-color: white;}#sk-container-id-1 div.sk-parallel-item:first-child::after {align-self: flex-end;width: 50%;}#sk-container-id-1 div.sk-parallel-item:last-child::after {align-self: flex-start;width: 50%;}#sk-container-id-1 div.sk-parallel-item:only-child::after {width: 0;}#sk-container-id-1 div.sk-dashed-wrapped {border: 1px dashed gray;margin: 0 0.4em 0.5em 0.4em;box-sizing: border-box;padding-bottom: 0.4em;background-color: white;}#sk-container-id-1 div.sk-label label {font-family: monospace;font-weight: bold;display: inline-block;line-height: 1.2em;}#sk-container-id-1 div.sk-label-container {text-align: center;}#sk-container-id-1 div.sk-container {/* jupyter's `normalize.less` sets `[hidden] { display: none; }` but bootstrap.min.css set `[hidden] { display: none !important; }` so we also need the `!important` here to be able to override the default hidden behavior on the sphinx rendered scikit-learn.org. See: https://github.com/scikit-learn/scikit-learn/issues/21755 */display: inline-block !important;position: relative;}#sk-container-id-1 div.sk-text-repr-fallback {display: none;}</style><div id=\"sk-container-id-1\" class=\"sk-top-container\"><div class=\"sk-text-repr-fallback\"><pre>LinearRegression()</pre><b>In a Jupyter environment, please rerun this cell to show the HTML representation or trust the notebook. <br />On GitHub, the HTML representation is unable to render, please try loading this page with nbviewer.org.</b></div><div class=\"sk-container\" hidden><div class=\"sk-item\"><div class=\"sk-estimator sk-toggleable\"><input class=\"sk-toggleable__control sk-hidden--visually\" id=\"sk-estimator-id-1\" type=\"checkbox\" checked><label for=\"sk-estimator-id-1\" class=\"sk-toggleable__label sk-toggleable__label-arrow\">LinearRegression</label><div class=\"sk-toggleable__content\"><pre>LinearRegression()</pre></div></div></div></div></div>"
      ],
      "text/plain": [
       "LinearRegression()"
      ]
     },
     "execution_count": 51,
     "metadata": {},
     "output_type": "execute_result"
    }
   ],
   "source": [
    "#7. Train a Linear Regression model on the training set.\n",
    "from sklearn.linear_model import LinearRegression\n",
    "from sklearn.metrics import mean_squared_error, r2_score\n",
    "\n",
    "if 'date' in df.columns:\n",
    "    data = df.drop(columns=['date'])\n",
    "\n",
    "X = data.drop(columns=['close'])   \n",
    "y = data['close']\n",
    "\n",
    "X_train, X_test, y_train, y_test = train_test_split(X, y, test_size=0.2, random_state=42)\n",
    "\n",
    "model = LinearRegression()\n",
    "model.fit(X_train, y_train)"
   ]
  },
  {
   "cell_type": "code",
   "execution_count": 52,
   "id": "4d518a9c-5ff5-4518-8ec3-8a63b5c903dd",
   "metadata": {},
   "outputs": [
    {
     "data": {
      "text/html": [
       "<div>\n",
       "<style scoped>\n",
       "    .dataframe tbody tr th:only-of-type {\n",
       "        vertical-align: middle;\n",
       "    }\n",
       "\n",
       "    .dataframe tbody tr th {\n",
       "        vertical-align: top;\n",
       "    }\n",
       "\n",
       "    .dataframe thead th {\n",
       "        text-align: right;\n",
       "    }\n",
       "</style>\n",
       "<table border=\"1\" class=\"dataframe\">\n",
       "  <thead>\n",
       "    <tr style=\"text-align: right;\">\n",
       "      <th></th>\n",
       "      <th>open</th>\n",
       "      <th>high</th>\n",
       "      <th>low</th>\n",
       "      <th>close</th>\n",
       "      <th>adj_close</th>\n",
       "      <th>volume</th>\n",
       "    </tr>\n",
       "  </thead>\n",
       "  <tbody>\n",
       "    <tr>\n",
       "      <th>0</th>\n",
       "      <td>44.380001</td>\n",
       "      <td>44.380001</td>\n",
       "      <td>44.490002</td>\n",
       "      <td>44.070000</td>\n",
       "      <td>44.430000</td>\n",
       "      <td>5992000</td>\n",
       "    </tr>\n",
       "    <tr>\n",
       "      <th>1</th>\n",
       "      <td>44.779999</td>\n",
       "      <td>44.779999</td>\n",
       "      <td>44.919998</td>\n",
       "      <td>44.470001</td>\n",
       "      <td>44.490002</td>\n",
       "      <td>11655300</td>\n",
       "    </tr>\n",
       "    <tr>\n",
       "      <th>2</th>\n",
       "      <td>44.950001</td>\n",
       "      <td>44.950001</td>\n",
       "      <td>44.970001</td>\n",
       "      <td>44.740002</td>\n",
       "      <td>44.750000</td>\n",
       "      <td>11996000</td>\n",
       "    </tr>\n",
       "    <tr>\n",
       "      <th>3</th>\n",
       "      <td>44.750000</td>\n",
       "      <td>44.750000</td>\n",
       "      <td>44.919998</td>\n",
       "      <td>44.720001</td>\n",
       "      <td>44.880001</td>\n",
       "      <td>3169200</td>\n",
       "    </tr>\n",
       "    <tr>\n",
       "      <th>4</th>\n",
       "      <td>45.049999</td>\n",
       "      <td>45.049999</td>\n",
       "      <td>45.049999</td>\n",
       "      <td>44.790001</td>\n",
       "      <td>44.930000</td>\n",
       "      <td>6105100</td>\n",
       "    </tr>\n",
       "  </tbody>\n",
       "</table>\n",
       "</div>"
      ],
      "text/plain": [
       "        open       high        low      close  adj_close    volume\n",
       "0  44.380001  44.380001  44.490002  44.070000  44.430000   5992000\n",
       "1  44.779999  44.779999  44.919998  44.470001  44.490002  11655300\n",
       "2  44.950001  44.950001  44.970001  44.740002  44.750000  11996000\n",
       "3  44.750000  44.750000  44.919998  44.720001  44.880001   3169200\n",
       "4  45.049999  45.049999  45.049999  44.790001  44.930000   6105100"
      ]
     },
     "execution_count": 52,
     "metadata": {},
     "output_type": "execute_result"
    }
   ],
   "source": [
    "data.head()"
   ]
  },
  {
   "cell_type": "code",
   "execution_count": 53,
   "id": "75e294f9-a802-49d1-9bb8-61bf7daab6d1",
   "metadata": {},
   "outputs": [
    {
     "name": "stdout",
     "output_type": "stream",
     "text": [
      "\n",
      "Model Evaluation:\n",
      "MSE: 0.13509776518137695\n",
      "RMSE: 0.3675564789000147\n",
      "R² Score: 0.9999493679331694\n"
     ]
    }
   ],
   "source": [
    "#8. Evaluate the model using Mean Squared Error (MSE), Root Mean Squared Error (RMSE), and R² score on the test set.\n",
    "y_pred = model.predict(X_test)\n",
    "\n",
    "mse = mean_squared_error(y_test, y_pred)\n",
    "rmse = np.sqrt(mse)\n",
    "r2 = r2_score(y_test, y_pred)\n",
    "\n",
    "print(\"\\nModel Evaluation:\")\n",
    "print(\"MSE:\", mse)\n",
    "print(\"RMSE:\", rmse)\n",
    "print(\"R² Score:\", r2)"
   ]
  },
  {
   "cell_type": "code",
   "execution_count": 55,
   "id": "b6cd1021-493d-454f-aed2-6a2ae212f086",
   "metadata": {},
   "outputs": [
    {
     "data": {
      "image/png": "[encoded data removed]",
      "text/plain": [
       "<Figure size 600x600 with 1 Axes>"
      ]
     },
     "metadata": {},
     "output_type": "display_data"
    }
   ],
   "source": [
    "#9. Plot Actual vs. Predicted gold prices to visualize model performance.\n",
    "plt.figure(figsize=(6,6))\n",
    "plt.scatter(y_test, y_pred, alpha=0.6)\n",
    "plt.xlabel(\"Actual Gold Prices\")\n",
    "plt.ylabel(\"Predicted Gold Prices\")\n",
    "plt.title(\"Actual vs Predicted\")\n",
    "plt.show()"
   ]
  },
  {
   "cell_type": "code",
   "execution_count": 58,
   "id": "821fe4f2-d94e-48f8-85cd-cab9907d5bc7",
   "metadata": {},
   "outputs": [
    {
     "name": "stdout",
     "output_type": "stream",
     "text": [
      "\n",
      "Model Coefficients:\n",
      "      Feature   Coefficient\n",
      "0       open  3.618257e-01\n",
      "1       high  3.618257e-01\n",
      "2        low -3.520350e-01\n",
      "3  adj_close  6.258093e-01\n",
      "4     volume -2.883189e-08\n"
     ]
    }
   ],
   "source": [
    "#10. Interpret the model coefficients. Which features have the most significant impact on gold price prediction?\n",
    "coef_df = pd.DataFrame({\"Feature\": X.columns,\"Coefficient\": model.coef_})\n",
    "print(\"\\nModel Coefficients:\\n\", coef_df)\n",
    "#adj_close,open and high,low,volume are decreasing order of impactfulnness on gold price."
   ]
  },
  {
   "cell_type": "code",
   "execution_count": null,
   "id": "b59270c5-64e0-474a-ace8-3dcaf56bf56f",
   "metadata": {},
   "outputs": [],
   "source": [
    "\n"
   ]
  }
 ],
 "metadata": {
  "kernelspec": {
   "display_name": "Python 3 (ipykernel)",
   "language": "python",
   "name": "python3"
  },
  "language_info": {
   "codemirror_mode": {
    "name": "ipython",
    "version": 3
   },
   "file_extension": ".py",
   "mimetype": "text/x-python",
   "name": "python",
   "nbconvert_exporter": "python",
   "pygments_lexer": "ipython3",
   "version": "3.9.13"
  }
 },
 "nbformat": 4,
 "nbformat_minor": 5
}
