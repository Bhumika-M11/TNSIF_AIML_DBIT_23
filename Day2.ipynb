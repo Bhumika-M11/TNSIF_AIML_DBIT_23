{
 "cells": [
  {
   "cell_type": "code",
   "execution_count": 1,
   "id": "bf4a5a10-ac93-4231-87d7-2f4570607ec9",
   "metadata": {},
   "outputs": [
    {
     "name": "stdout",
     "output_type": "stream",
     "text": [
      "Enter a number: 300\n",
      "Enter a number: 700\n",
      "Sum exceeded 300 Terminate it..... \n",
      "Final total: 300\n"
     ]
    }
   ],
   "source": [
    "#Day-2(31-7-25)\n",
    "#To print the total sum . where the total should bee less than or equal to 300 , if it exceeds 300 terminate ,\n",
    "#n number of inputs can be taken where the total should bee less than or equal to 300 \n",
    "\n",
    "total = 0\n",
    "\n",
    "while True:\n",
    "    try:\n",
    "        num = int(input(\"Enter a number: \"))\n",
    "        if total + num > 300:\n",
    "            print(\"Sum exceeded 300 Terminate it..... \")\n",
    "            break\n",
    "        total += num\n",
    "    except ValueError:\n",
    "        print(\"Please enter a valid number \")\n",
    "\n",
    "print(\"Final total:\", total)\n"
   ]
  },
  {
   "cell_type": "code",
   "execution_count": 2,
   "id": "03c6366c-15fb-4db4-ac35-35e6620b09bc",
   "metadata": {},
   "outputs": [
    {
     "name": "stdout",
     "output_type": "stream",
     "text": [
      "Enter a string: bhu\n",
      "Enter a string: bon\n",
      "Enter a string: voyage\n",
      "Enter a string: Bon\n",
      "Voyage\n"
     ]
    }
   ],
   "source": [
    "#Write a program that keeps accepting strings until ‘Bon’ is entered. The program should display ‘Voyage’ and quit execution\n",
    "while True:\n",
    "    userinput = input(\"Enter a string: \")\n",
    "    if userinput == \"Bon\":\n",
    "        print(\"Voyage\")\n",
    "        break"
   ]
  },
  {
   "cell_type": "code",
   "execution_count": 3,
   "id": "6e62ea1b-3ff9-4540-a944-3dc0dab859af",
   "metadata": {},
   "outputs": [
    {
     "name": "stdout",
     "output_type": "stream",
     "text": [
      "Enter address: rajajinagar\n"
     ]
    }
   ],
   "source": [
    "#Write a program that accepts the door number and street of the user and displays only the numbers present in the string.\n",
    "address = input(\"Enter address: \")\n",
    "\n",
    "for i in address:\n",
    "    if i.isdigit():\n",
    "        print(i)"
   ]
  },
  {
   "cell_type": "code",
   "execution_count": 5,
   "id": "0db7ffb9-de61-4c43-99dd-6ad4c576b3fd",
   "metadata": {},
   "outputs": [
    {
     "name": "stdout",
     "output_type": "stream",
     "text": [
      "Enter element : 1\n",
      "Enter element : 11\n",
      "Enter element : \n",
      "Enter element : 34\n",
      "Enter element : 665\n",
      "Enter name: bhu\n",
      "elements in the list: ['1', '11', 'bhu', '34', 'bhu']\n"
     ]
    }
   ],
   "source": [
    "# Accept a list from the user with 5 elements. \n",
    "# Accept name of user and replace the third and fifth elements of the list with the user’s name.\n",
    "\n",
    "my_list = []\n",
    "for i in range(5):\n",
    "    element = input(f\"Enter element : \")\n",
    "    my_list.append(element)\n",
    "    \n",
    "name = input(\"Enter name: \")\n",
    "my_list[2] = name\n",
    "my_list[4] = name\n",
    "print(\"elements in the list:\", my_list)\n"
   ]
  },
  {
   "cell_type": "code",
   "execution_count": 7,
   "id": "b6eee831-d2e5-4082-8388-c87be5ac1ca0",
   "metadata": {},
   "outputs": [
    {
     "name": "stdout",
     "output_type": "stream",
     "text": [
      "How many elements in the list:  2\n",
      "Enter element: a \n",
      "Enter element: c\n",
      "Enter index: 1\n",
      "Enter element to insert: b\n",
      "['a ', 'b', 'c']\n"
     ]
    }
   ],
   "source": [
    "# Write a program that accepts a list from the user and two other inputs: The index where a new element has to be inserted and the element itself.\n",
    "#The program should check if the index value given by the user is valid. If  it is not, then a message should state that the new element will be appended\n",
    "\n",
    "n = int(input(\"How many elements in the list:  \"))\n",
    "list1 = []\n",
    "for _ in range(n):\n",
    "    list1.append(input(\"Enter element: \"))\n",
    "\n",
    "i = int(input(\"Enter index: \"))\n",
    "element = input(\"Enter element to insert: \")\n",
    "\n",
    "if 0 <= i <= len(list1):\n",
    "    list1.insert(i, element)\n",
    "else:\n",
    "    list1.append(element)\n",
    "\n",
    "print(list1)"
   ]
  }
 ],
 "metadata": {
  "kernelspec": {
   "display_name": "Python 3 (ipykernel)",
   "language": "python",
   "name": "python3"
  },
  "language_info": {
   "codemirror_mode": {
    "name": "ipython",
    "version": 3
   },
   "file_extension": ".py",
   "mimetype": "text/x-python",
   "name": "python",
   "nbconvert_exporter": "python",
   "pygments_lexer": "ipython3",
   "version": "3.9.13"
  }
 },
 "nbformat": 4,
 "nbformat_minor": 5
}
