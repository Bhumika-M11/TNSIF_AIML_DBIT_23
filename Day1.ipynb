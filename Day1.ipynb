{
 "cells": [
  {
   "cell_type": "code",
   "execution_count": 3,
   "id": "734e214c-7005-4941-a964-c06aad50ba17",
   "metadata": {},
   "outputs": [
    {
     "name": "stdout",
     "output_type": "stream",
     "text": [
      "Enter PIN: 1234\n",
      "\n",
      "1. Check Balance\n",
      "2. Deposit\n",
      "3. Withdraw\n",
      "Choose (1/2/3): 1\n",
      "Balance: 5000\n"
     ]
    }
   ],
   "source": [
    "#Day-1(30-7-25)\n",
    "#Build a simple ATM simulation. User must:Enter correct PIN (e.g., 1234)\n",
    "#Can perform withdraw, deposit, or check balance\n",
    "#Only 3 attempts allowed for PIN                       \n",
    "\n",
    "pin = \"1234\"\n",
    "balance = 5000\n",
    "\n",
    "for i in range(3):\n",
    "    entered = input(\"Enter PIN: \")\n",
    "    if entered == pin:\n",
    "        print(\"\\n1. Check Balance\\n2. Deposit\\n3. Withdraw\")\n",
    "        choice = input(\"Choose (1/2/3): \")\n",
    "        \n",
    "        if choice == \"1\":\n",
    "            print(\"Balance:\", balance)\n",
    "        elif choice == \"2\":\n",
    "            amt = int(input(\"Deposit amount: \"))\n",
    "            balance += amt\n",
    "            print(\"New Balance:\", balance)\n",
    "        elif choice == \"3\":\n",
    "            amt = int(input(\"Withdraw amount: \"))\n",
    "            balance -= amt\n",
    "            print(\"New Balance:\", balance)  \n",
    "        else:\n",
    "            print(\"Invalid choice\")\n",
    "        break\n",
    "    else:\n",
    "        print(\"Wrong PIN\")\n",
    "else:\n",
    "    print(\"Too many wrong attempts\")"
   ]
  }
 ],
 "metadata": {
  "kernelspec": {
   "display_name": "Python 3 (ipykernel)",
   "language": "python",
   "name": "python3"
  },
  "language_info": {
   "codemirror_mode": {
    "name": "ipython",
    "version": 3
   },
   "file_extension": ".py",
   "mimetype": "text/x-python",
   "name": "python",
   "nbconvert_exporter": "python",
   "pygments_lexer": "ipython3",
   "version": "3.9.13"
  }
 },
 "nbformat": 4,
 "nbformat_minor": 5
}
